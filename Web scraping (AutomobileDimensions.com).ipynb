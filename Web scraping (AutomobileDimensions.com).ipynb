{
 "cells": [
  {
   "cell_type": "code",
   "execution_count": 4,
   "metadata": {},
   "outputs": [],
   "source": [
    "from bs4 import BeautifulSoup,SoupStrainer\n",
    "import requests\n",
    "import pandas as pd\n",
    "import re\n",
    "import math\n",
    "from pprint import pprint\n",
    "\n",
    "import selenium\n",
    "from selenium.webdriver.support.wait import WebDriverWait as wait\n",
    "from selenium.webdriver.support import expected_conditions as EC\n",
    "from selenium.webdriver.support.ui import Select\n",
    "from selenium.webdriver.common.by import By\n",
    "from selenium.webdriver.common.keys import Keys\n",
    "from selenium.webdriver.support.ui import Select\n",
    "from selenium.common.exceptions import NoSuchElementException\n",
    "from selenium.common.exceptions import NoAlertPresentException\n",
    "from selenium.common.exceptions import TimeoutException\n",
    "from selenium import webdriver\n",
    "from selenium.webdriver.chrome.options import Options\n"
   ]
  },
  {
   "cell_type": "code",
   "execution_count": null,
   "metadata": {},
   "outputs": [],
   "source": [
    "\n",
    "url = \"https://www.automobiledimension.com/\"\n",
    "req = requests.get(url)\n",
    "soup = BeautifulSoup(req.content, 'html.parser')\n",
    "print(soup.prettify())\n"
   ]
  },
  {
   "cell_type": "code",
   "execution_count": null,
   "metadata": {},
   "outputs": [],
   "source": [
    "all_cars=[]\n",
    "for link in soup.find_all('a'):\n",
    "    if re.search('.*-dimensions.html',str(link.get('href'))):\n",
    "        car_brand=link.get('href')\n",
    "        print(car_brand)\n",
    "        url = \"https://www.automobiledimension.com/{}\".format(car_brand)\n",
    "        req = requests.get(url)\n",
    "        sub_soup = BeautifulSoup(req.content, 'html.parser')        \n",
    "        for to_parse in sub_soup.body.main.find_all(\"div\",{\"class\":\"unit\"}):\n",
    "            dict1={}\n",
    "            dict1['brand']=car_brand.replace('-car-dimensions.html','')\n",
    "            dict1['car make']=to_parse.h2.text\n",
    "            dict1.update(dict(zip(['L','W','H'],re.split('x',re.search('L x W x H: (\\d{3,5} x \\d{3,5} x \\d{3,5}) mm',str(to_parse)).group(1)))))\n",
    "            try:\n",
    "                dict1['boot space']=re.search('Boot capacity: (\\d{0,4}).* dm',str(to_parse)).group(1)\n",
    "            except:\n",
    "                print(\"No boot space info for {}\".format(to_parse.h2.text))\n",
    "                \n",
    "            # Go to car's specific page\n",
    "            car_page=[x.get('href') for x in to_parse.find_all(\"a\")][0]\n",
    "            url = \"https://www.automobiledimension.com/{}\".format(car_page)\n",
    "            dict1['link']=url\n",
    "            req = requests.get(url)\n",
    "            page_soup = BeautifulSoup(req.content, 'html.parser')        \n",
    "            \n",
    "            # Return the free text\n",
    "            car_text=page_soup.find(\"div\", {\"class\": \"interior-text\"})\n",
    "            if car_text:\n",
    "                #Figure out what type of car it is\n",
    "                car_classes=[x.contents for x in car_text.find_all(\"a\")]\n",
    "                try:\n",
    "                    if car_classes[-1][0]=='previous model':\n",
    "                        dict1['type']=car_classes[-2][0]\n",
    "                    else:\n",
    "                        dict1['type']=car_classes[-1][0]\n",
    "                except:\n",
    "                    pass\n",
    "                \n",
    "                # Figure out petrol type\n",
    "                dict1['petrol types']=','.join([x[\"alt\"] for x in car_text.find_all(\"img\")])\n",
    "                \n",
    "            # Return the caption under the pic of seats saying how many seats\n",
    "            for x in page_soup.find_all(\"figure\", {\"class\": \"interior-figure\"}):\n",
    "                if re.search('Interior space with \\d seats',str(x)):\n",
    "                    dict1['num seats']=re.search('Interior space with (\\d) seats',str(x)).group(1)          \n",
    "            all_cars.append(dict1)"
   ]
  },
  {
   "cell_type": "code",
   "execution_count": null,
   "metadata": {},
   "outputs": [],
   "source": [
    "pd.options.display.max_rows=999\n",
    "pd.set_option('display.max_colwidth', -1)\n",
    "\n",
    "cars_df=pd.DataFrame(all_cars)\n",
    "\n",
    "cars_df=cars_df[cars_df['boot space'].notnull()]\n",
    "cars_df=cars_df[cars_df['boot space'].str.isnumeric()]\n",
    "cars_df['boot space']=pd.to_numeric(cars_df['boot space'])\n",
    "\n",
    "cars_df=cars_df.sort_values(by='boot space',ascending=False)\n",
    "cars_df"
   ]
  },
  {
   "cell_type": "code",
   "execution_count": null,
   "metadata": {},
   "outputs": [],
   "source": [
    "writer = pd.ExcelWriter(r'C:\\Users\\steve\\Desktop\\Cars.xlsx', engine='xlsxwriter')\n",
    "cars_df.to_excel(writer, index=False)\n",
    "worksheet = writer.sheets['Sheet1']\n"
   ]
  },
  {
   "cell_type": "code",
   "execution_count": null,
   "metadata": {},
   "outputs": [],
   "source": []
  },
  {
   "cell_type": "code",
   "execution_count": null,
   "metadata": {},
   "outputs": [],
   "source": []
  },
  {
   "cell_type": "code",
   "execution_count": null,
   "metadata": {},
   "outputs": [],
   "source": []
  },
  {
   "cell_type": "code",
   "execution_count": null,
   "metadata": {},
   "outputs": [],
   "source": []
  },
  {
   "cell_type": "code",
   "execution_count": null,
   "metadata": {},
   "outputs": [],
   "source": []
  },
  {
   "cell_type": "code",
   "execution_count": null,
   "metadata": {},
   "outputs": [],
   "source": []
  },
  {
   "cell_type": "code",
   "execution_count": null,
   "metadata": {},
   "outputs": [],
   "source": []
  }
 ],
 "metadata": {
  "kernelspec": {
   "display_name": "Python 3",
   "language": "python",
   "name": "python3"
  },
  "language_info": {
   "codemirror_mode": {
    "name": "ipython",
    "version": 3
   },
   "file_extension": ".py",
   "mimetype": "text/x-python",
   "name": "python",
   "nbconvert_exporter": "python",
   "pygments_lexer": "ipython3",
   "version": "3.7.0"
  }
 },
 "nbformat": 4,
 "nbformat_minor": 2
}
